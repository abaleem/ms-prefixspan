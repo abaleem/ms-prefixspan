{
 "cells": [
  {
   "cell_type": "markdown",
   "metadata": {},
   "source": [
    "# Pattern Mining / Recommendation\n",
    "\n",
    "This note is a short demonstration on how to use this algorithm for finding sequential patterns and recommendations. \n",
    "\n",
    "\n",
    "### Why use this ?\n",
    "\n",
    "The legend says that a study was done by a retail grocery store.  The findings were that men between 30- 40 years in age, shopping between 5pm and 7pm on Fridays, who purchased diapers were most likely to also have beer in their carts.  This motivated the grocery store to move the beer isle  closer to the diaper isle and wiz-boom-bang, instant 35% increase in sales of both. [Link](http://canworksmart.com/diapers-beer-retail-predictive-analytics/)\n",
    "\n",
    "For supervised data even simple algorithms can produce good recommendations but in most cases we dont have labeled data (retail) or labeling it requires alot of resources. To solve this, I have implemented msPrefixSpan which works with unsupervised data and the latest improvement allow you to set an importance threshold of each item and get rid of patterns with item you dont care about (see How to?).\n",
    "\n",
    "\n",
    "### How to use this?\n",
    "\n",
    "1. Each row in data file represents 1 customer. Each sub list represents a single transaction.\n",
    "e.g. [['Bread, 'Peanut Butter']['Almond Butter']] means bread and peanut butter were bought togther first and later the same person bought Almond butter (for a change maybe).\n",
    "2. Parameter file contains something known as 'MIS value' and 'SDC'. MIS value tells us that in what percentage of transactions the item must be present for it to be important (otherwise the algorithm won't mine it). SDC tells us whats the accepted difference between two items. e.g. milk is bought more frequently than peanut butter, hence peanut butter will have a lower MIS value for it to be considered important. \n",
    "3. Lastly, this algorithm is very easy to use (shown below). As of now, there are two ways in which you can use it. To find all (important) patterns in the data and to find patterns for a certain set of items (make sure the pattern of the set is whats shown in 1)\n",
    "\n",
    "### With what data?\n",
    "\n",
    "For now, there are 2 data sets available 'data_100' and data_1000'. These datasets were randomly generated for testing purpose and do not correspond to a real world situation. However, if you have any sequential data, feel free to try this algorithm on that and share the data with me, if possible."
   ]
  },
  {
   "cell_type": "code",
   "execution_count": 1,
   "metadata": {},
   "outputs": [],
   "source": [
    "dataFile = 'data/data_100.txt'\n",
    "parameterFile = 'data/parameters_100.txt'\n",
    "outputFile = 'results/result_100.txt'"
   ]
  },
  {
   "cell_type": "markdown",
   "metadata": {},
   "source": [
    "# Finding All Patterns"
   ]
  },
  {
   "cell_type": "code",
   "execution_count": 2,
   "metadata": {},
   "outputs": [
    {
     "name": "stdout",
     "output_type": "stream",
     "text": [
      "All patterns saved to results/result_100.txt\n"
     ]
    }
   ],
   "source": [
    "from msps import msPrefixSpan\n",
    "Patterns = msPrefixSpan(dataFile, parameterFile, outputFile)"
   ]
  },
  {
   "cell_type": "markdown",
   "metadata": {},
   "source": [
    "# Find Patterns For"
   ]
  },
  {
   "cell_type": "code",
   "execution_count": 3,
   "metadata": {},
   "outputs": [
    {
     "data": {
      "text/html": [
       "<div>\n",
       "<style scoped>\n",
       "    .dataframe tbody tr th:only-of-type {\n",
       "        vertical-align: middle;\n",
       "    }\n",
       "\n",
       "    .dataframe tbody tr th {\n",
       "        vertical-align: top;\n",
       "    }\n",
       "\n",
       "    .dataframe thead th {\n",
       "        text-align: right;\n",
       "    }\n",
       "</style>\n",
       "<table border=\"1\" class=\"dataframe\">\n",
       "  <thead>\n",
       "    <tr style=\"text-align: right;\">\n",
       "      <th></th>\n",
       "      <th>Mined Patterns</th>\n",
       "      <th>Occurred Together %</th>\n",
       "    </tr>\n",
       "  </thead>\n",
       "  <tbody>\n",
       "    <tr>\n",
       "      <th>0</th>\n",
       "      <td>[[h, k]]</td>\n",
       "      <td>44.0</td>\n",
       "    </tr>\n",
       "    <tr>\n",
       "      <th>1</th>\n",
       "      <td>[[h, i]]</td>\n",
       "      <td>43.0</td>\n",
       "    </tr>\n",
       "    <tr>\n",
       "      <th>2</th>\n",
       "      <td>[[h, j]]</td>\n",
       "      <td>43.0</td>\n",
       "    </tr>\n",
       "    <tr>\n",
       "      <th>3</th>\n",
       "      <td>[[h, j, k]]</td>\n",
       "      <td>35.0</td>\n",
       "    </tr>\n",
       "    <tr>\n",
       "      <th>4</th>\n",
       "      <td>[[h, i, j]]</td>\n",
       "      <td>34.0</td>\n",
       "    </tr>\n",
       "    <tr>\n",
       "      <th>5</th>\n",
       "      <td>[[h, i, k]]</td>\n",
       "      <td>33.0</td>\n",
       "    </tr>\n",
       "    <tr>\n",
       "      <th>6</th>\n",
       "      <td>[[g, h]]</td>\n",
       "      <td>31.0</td>\n",
       "    </tr>\n",
       "    <tr>\n",
       "      <th>7</th>\n",
       "      <td>[[h, i, j, k]]</td>\n",
       "      <td>27.0</td>\n",
       "    </tr>\n",
       "    <tr>\n",
       "      <th>8</th>\n",
       "      <td>[[h, j], [k]]</td>\n",
       "      <td>25.0</td>\n",
       "    </tr>\n",
       "    <tr>\n",
       "      <th>9</th>\n",
       "      <td>[[j], [h, k]]</td>\n",
       "      <td>25.0</td>\n",
       "    </tr>\n",
       "  </tbody>\n",
       "</table>\n",
       "</div>"
      ],
      "text/plain": [
       "   Mined Patterns  Occurred Together %\n",
       "0        [[h, k]]                 44.0\n",
       "1        [[h, i]]                 43.0\n",
       "2        [[h, j]]                 43.0\n",
       "3     [[h, j, k]]                 35.0\n",
       "4     [[h, i, j]]                 34.0\n",
       "5     [[h, i, k]]                 33.0\n",
       "6        [[g, h]]                 31.0\n",
       "7  [[h, i, j, k]]                 27.0\n",
       "8   [[h, j], [k]]                 25.0\n",
       "9   [[j], [h, k]]                 25.0"
      ]
     },
     "execution_count": 3,
     "metadata": {},
     "output_type": "execute_result"
    }
   ],
   "source": [
    "from msps import msPrefixSpanFor\n",
    "import pandas as pd\n",
    "\n",
    "findPatternFor = [['h']]\n",
    "\n",
    "Patterns = msPrefixSpanFor(dataFile, parameterFile, findPatternFor)\n",
    "\n",
    "pd.DataFrame(Patterns, columns=['Mined Patterns', 'Occurred Together %'])"
   ]
  },
  {
   "cell_type": "markdown",
   "metadata": {},
   "source": [
    "# Inference \n",
    "\n",
    "There are many ways in which these results can be used. I have decided to show all patterns rather than specific recommendations to allow maximun inference. \n",
    "\n",
    "In the table above we can see that:- \n",
    "1. around 43% of times 'k', 'i' and 'j' were bought with 'h'. \n",
    "2. these four were bought together 27% of times.\n",
    "3. when people bought 'h' and 'j' together they bought 'k' next time.\n",
    "4. when people bought 'j' they bought 'h' and 'k' next time."
   ]
  }
 ],
 "metadata": {
  "kernelspec": {
   "display_name": "Python 3",
   "language": "python",
   "name": "python3"
  },
  "language_info": {
   "codemirror_mode": {
    "name": "ipython",
    "version": 3
   },
   "file_extension": ".py",
   "mimetype": "text/x-python",
   "name": "python",
   "nbconvert_exporter": "python",
   "pygments_lexer": "ipython3",
   "version": "3.7.1"
  }
 },
 "nbformat": 4,
 "nbformat_minor": 2
}
